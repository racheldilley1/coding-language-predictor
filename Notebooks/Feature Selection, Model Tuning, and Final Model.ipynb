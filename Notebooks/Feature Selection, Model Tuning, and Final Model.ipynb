{
 "cells": [
  {
   "cell_type": "code",
   "execution_count": 1,
   "metadata": {},
   "outputs": [],
   "source": [
    "import pandas as pd\n",
    "import numpy as np\n",
    "# import pickle as pkl\n",
    "from scipy import stats\n",
    "from collections import defaultdict\n",
    "\n",
    "#modeling\n",
    "from sklearn.model_selection import train_test_split\n",
    "import xgboost as xgb\n",
    "from imblearn.over_sampling import ADASYN, SMOTE\n",
    "from imblearn.under_sampling import RandomUnderSampler\n",
    "from classification_functions import  conf_matrix\n",
    "from sklearn.metrics import confusion_matrix, precision_score, recall_score, f1_score\n",
    "from xgboost import XGBClassifier\n",
    "\n",
    "#plotting\n",
    "import matplotlib.pyplot as plt\n",
    "import seaborn as sns"
   ]
  },
  {
   "cell_type": "markdown",
   "metadata": {},
   "source": [
    "Final model functions and scoring"
   ]
  },
  {
   "cell_type": "code",
   "execution_count": 2,
   "metadata": {},
   "outputs": [],
   "source": [
    "def XGBoost(X_train, y_train, X_val, y_val, depth, l_rate, subsample,  min_weight, col_sample):\n",
    "\n",
    "    params = { \n",
    "                'n_estimators': 20000,\n",
    "                'max_depth': depth,\n",
    "                'objective':'multi:softprob',\n",
    "                'num_classes' :3,  \n",
    "                'learning_rate': l_rate, \n",
    "                'subsample': subsample,\n",
    "                'min_child_weight':min_weight,\n",
    "                'colsample_bytree':col_sample,\n",
    "                'random_state' : 0,\n",
    "                'verbosity' : 0,\n",
    "                'n_jobs' : -1}\n",
    "\n",
    "    gbm = XGBClassifier()\n",
    "    gbm.set_params(**params)\n",
    "    gbm.fit(X_train, y_train)\n",
    "    preds = gbm.predict(X_val)\n",
    "    \n",
    "    print(f'XGBoost with params:\\n'\n",
    "          f'max_depth = {depth}\\n'\n",
    "          f'learning_rate = {l_rate}\\n'\n",
    "          f'subsample = {subsample}\\n'\n",
    "          f'min_child_weight = {min_weight}\\n'\n",
    "          f'colsample_bytree = {col_sample}\\n'\n",
    "          '\\n'\n",
    "          f'Has an f1 score of: {round(f1_score( y_val, preds, average=\"macro\"), 3)}'\n",
    "         )\n",
    "          \n",
    "    return gbm\n",
    "\n",
    "def XGBoost_baseline(X_train, y_train):\n",
    "              \n",
    "    gbm = XGBClassifier()\n",
    "    gbm.fit(X_train, y_train)\n",
    "    \n",
    "          \n",
    "    return gbm\n",
    "\n",
    "def get_f1(model, X_val, y_val):\n",
    "    preds = model.predict(X_val)\n",
    "    \n",
    "    return f1_score( y_val, preds, average=\"macro\")\n",
    "    "
   ]
  },
  {
   "cell_type": "markdown",
   "metadata": {},
   "source": [
    "Load data"
   ]
  },
  {
   "cell_type": "code",
   "execution_count": 3,
   "metadata": {},
   "outputs": [],
   "source": [
    "df = pd.read_pickle('../Data/survey_data_cleaned2.pkl')\n",
    "#df.info()"
   ]
  },
  {
   "cell_type": "code",
   "execution_count": 4,
   "metadata": {},
   "outputs": [
    {
     "name": "stdout",
     "output_type": "stream",
     "text": [
      "Index(['database_count', 'Age1stCode', 'YearsCodePro', 'Age', 'YearsCode',\n",
      "       'EdLevel_BA/BS', 'EdLevel_MA/PhD', 'EdLevel_None', 'EdLevel_Prof',\n",
      "       'EdLevel_Some Univ', 'EdLevel_Student', 'Gender_Woman',\n",
      "       'Gender_gender non-conforming', 'UndergradMajor_Comp Sci/Eng',\n",
      "       'UndergradMajor_Eng', 'UndergradMajor_Health/Nat Sci',\n",
      "       'UndergradMajor_Human/Social Sci', 'UndergradMajor_Info Tech/Sys',\n",
      "       'UndergradMajor_Math/Stats', 'UndergradMajor_None',\n",
      "       'UndergradMajor_Web Dev', 'Region_Asia', 'Region_Australia',\n",
      "       'Region_Baltics', 'Region_CIS', 'Region_Europe', 'Region_M East',\n",
      "       'Region_N America', 'Region_S America', 'Region_other', 'Hobbyist_Yes',\n",
      "       'back-end_Yes', 'full-stack_Yes', 'front-end_Yes', 'desktop_Yes',\n",
      "       'mobile_Yes', 'DevOps_Yes', 'Database admin_Yes', 'Designer_Yes',\n",
      "       'System admin_Yes', 'Student_Yes', 'Other Occupation_Yes',\n",
      "       'Retired Dev_Yes', 'Sometimes Code at Work_Yes', 'JavaScript_Yes',\n",
      "       'Python_Yes', 'SQL_Yes', 'Java_Yes', 'HTML/CSS_Yes'],\n",
      "      dtype='object')\n"
     ]
    }
   ],
   "source": [
    "X = df[['database_count', 'Age1stCode', 'YearsCodePro', 'Age','YearsCode', 'EdLevel', \n",
    "         'Gender', 'UndergradMajor', 'Region', \n",
    "        'Hobbyist', 'back-end', 'full-stack', 'front-end', 'desktop', 'mobile', 'DevOps', 'Database admin', \n",
    "        'Designer','System admin', 'Student', 'Other Occupation', 'Retired Dev','Sometimes Code at Work', \n",
    "       'JavaScript', 'Python', 'SQL', 'Java', 'HTML/CSS']]\n",
    "y = df['OpSys']\n",
    "\n",
    "X = pd.get_dummies(X, drop_first = True)\n",
    "print(X.columns)"
   ]
  },
  {
   "cell_type": "markdown",
   "metadata": {},
   "source": [
    "### Fix Class Imbalance"
   ]
  },
  {
   "cell_type": "markdown",
   "metadata": {},
   "source": [
    "Try ADASYN Oversampling"
   ]
  },
  {
   "cell_type": "code",
   "execution_count": 5,
   "metadata": {},
   "outputs": [
    {
     "name": "stderr",
     "output_type": "stream",
     "text": [
      "/Users/racheldilley/opt/anaconda3/lib/python3.8/site-packages/xgboost/sklearn.py:1128: UserWarning: The use of label encoder in XGBClassifier is deprecated and will be removed in a future release. To remove this warning, do the following: 1) Pass option use_label_encoder=False when constructing XGBClassifier object; and 2) Encode your labels (y) as integers starting with 0, i.e. 0, 1, 2, ..., [num_class - 1].\n",
      "  warnings.warn(label_encoder_deprecation_msg, UserWarning)\n"
     ]
    },
    {
     "name": "stdout",
     "output_type": "stream",
     "text": [
      "XGBoost with params:\n",
      "max_depth = 10\n",
      "learning_rate = 0.3\n",
      "subsample = 0.8\n",
      "min_child_weight = 3\n",
      "colsample_bytree = 0.8\n",
      "\n",
      "Has an f1 score of: 0.846\n"
     ]
    }
   ],
   "source": [
    "X_adasyn, y_adasyn = ADASYN(random_state=42).fit_sample(X,y)\n",
    "\n",
    "X_train_adasyn, X_test_adasyn, y_train_adasyn, y_test_adasyn = train_test_split(X_adasyn,y_adasyn, test_size=0.2, random_state=42)\n",
    "X_train_adasyn, X_val_adasyn, y_train_adasyn, y_val_adasyn = train_test_split(X_train_adasyn,y_train_adasyn, test_size=0.25, random_state=42)\n",
    "\n",
    "xgb_adasyn = XGBoost(X_train_adasyn, y_train_adasyn,X_val_adasyn, y_val_adasyn, 10, 0.3, 0.8, 3, 0.8)"
   ]
  },
  {
   "cell_type": "markdown",
   "metadata": {},
   "source": [
    "Try SMOTE Oversampling"
   ]
  },
  {
   "cell_type": "code",
   "execution_count": 6,
   "metadata": {},
   "outputs": [
    {
     "name": "stderr",
     "output_type": "stream",
     "text": [
      "/Users/racheldilley/opt/anaconda3/lib/python3.8/site-packages/xgboost/sklearn.py:1128: UserWarning: The use of label encoder in XGBClassifier is deprecated and will be removed in a future release. To remove this warning, do the following: 1) Pass option use_label_encoder=False when constructing XGBClassifier object; and 2) Encode your labels (y) as integers starting with 0, i.e. 0, 1, 2, ..., [num_class - 1].\n",
      "  warnings.warn(label_encoder_deprecation_msg, UserWarning)\n"
     ]
    },
    {
     "name": "stdout",
     "output_type": "stream",
     "text": [
      "XGBoost with params:\n",
      "max_depth = 10\n",
      "learning_rate = 0.3\n",
      "subsample = 0.8\n",
      "min_child_weight = 3\n",
      "colsample_bytree = 0.8\n",
      "\n",
      "Has an f1 score of: 0.847\n"
     ]
    }
   ],
   "source": [
    "X_smoted, y_smoted = SMOTE(random_state=42).fit_sample(X,y)\n",
    "\n",
    "X_train_smoted, X_test_smoted, y_train_smoted, y_test_smoted = train_test_split(X_smoted,y_smoted, test_size=0.2, random_state=42)\n",
    "X_train_smoted, X_val_smoted, y_train_smoted, y_val_smoted = train_test_split(X_train_smoted, y_train_smoted, test_size=0.25, random_state=42)\n",
    "\n",
    "xgb_smoted = XGBoost(X_train_smoted, y_train_smoted, X_val_smoted, y_val_smoted, 10, 0.3, 0.8, 3, 0.8)"
   ]
  },
  {
   "cell_type": "code",
   "execution_count": 7,
   "metadata": {},
   "outputs": [],
   "source": [
    "X_train, X_test, y_train, y_test = train_test_split(X,y, test_size=0.2, random_state=42)\n",
    "X_train, X_val, y_train, y_val = train_test_split(X_train, y_train, test_size=0.25, random_state=42)\n",
    "\n",
    "X_smoted, y_smoted = SMOTE(random_state=42).fit_sample(X,y)"
   ]
  },
  {
   "cell_type": "markdown",
   "metadata": {},
   "source": [
    "Try Undersampling"
   ]
  },
  {
   "cell_type": "code",
   "execution_count": 8,
   "metadata": {},
   "outputs": [
    {
     "name": "stderr",
     "output_type": "stream",
     "text": [
      "/Users/racheldilley/opt/anaconda3/lib/python3.8/site-packages/xgboost/sklearn.py:1128: UserWarning: The use of label encoder in XGBClassifier is deprecated and will be removed in a future release. To remove this warning, do the following: 1) Pass option use_label_encoder=False when constructing XGBClassifier object; and 2) Encode your labels (y) as integers starting with 0, i.e. 0, 1, 2, ..., [num_class - 1].\n",
      "  warnings.warn(label_encoder_deprecation_msg, UserWarning)\n"
     ]
    },
    {
     "name": "stdout",
     "output_type": "stream",
     "text": [
      "XGBoost with params:\n",
      "max_depth = 10\n",
      "learning_rate = 0.3\n",
      "subsample = 0.8\n",
      "min_child_weight = 3\n",
      "colsample_bytree = 0.8\n",
      "\n",
      "Has an f1 score of: 0.741\n"
     ]
    }
   ],
   "source": [
    "X_under, y_under = RandomUnderSampler(random_state=42).fit_sample(X,y)\n",
    "X_train_under, X_test_under, y_train_under, y_test_under = train_test_split(X_under,y_under, test_size=0.2, random_state=42)\n",
    "X_train_under, X_val_under, y_train_under, y_val_under = train_test_split(X_train_under,y_train_under, test_size=0.25, random_state=42)\n",
    "\n",
    "xgb_under = XGBoost(X_train_under, y_train_under, X_val_under, y_val_under, 10, 0.3, 0.8, 3, 0.8)"
   ]
  },
  {
   "cell_type": "markdown",
   "metadata": {},
   "source": [
    "SMOTE performed the best"
   ]
  },
  {
   "cell_type": "markdown",
   "metadata": {},
   "source": [
    "pickle balanced dataframe"
   ]
  },
  {
   "cell_type": "code",
   "execution_count": 9,
   "metadata": {},
   "outputs": [],
   "source": [
    "# df = pd.concat((X_smoted,y_smoted), axis=1)\n",
    "# df.to_pickle('../Data/survey_data_cleaned_balanced.pkl')\n",
    "# #print(df)"
   ]
  },
  {
   "cell_type": "markdown",
   "metadata": {},
   "source": [
    "### Feature Selection"
   ]
  },
  {
   "cell_type": "code",
   "execution_count": 10,
   "metadata": {},
   "outputs": [],
   "source": [
    "#from itertools import islice\n",
    "def remove_features(X_train, y_train, X_val, y_val, basef1):\n",
    "    feats_remove = []\n",
    "    keep_remove = 1\n",
    "    col_list = list(X_train.columns)\n",
    "    #print(col_list)\n",
    "    d = {el:0 for el in col_list}\n",
    "    \n",
    "    while keep_remove == 1:\n",
    "        #idx = 0\n",
    "        for idx in range(len(col_list)+1):\n",
    "            removed = col_list[idx]\n",
    "            #print(removed)\n",
    "            \n",
    "            removed_col_list = col_list.copy()\n",
    "            removed_col_list.remove(removed)\n",
    "            \n",
    "            #print(removed_col_list)\n",
    "            model = XGBoost_baseline(X_train[removed_col_list], y_train)\n",
    "            \n",
    "            d[removed] = get_f1(model, X_val[removed_col_list], y_val)\n",
    "        \n",
    "        max_f1_key = max(d, key=d.get)\n",
    "        max_f1_val = d[max_f1_key]\n",
    "        print(max_f1_key, max_f1_val)\n",
    "        \n",
    "        if max_f1_val >= basef1:\n",
    "            col_list.remove(max_f1_key)\n",
    "            feats_remove.append(max_f1_key)\n",
    "            print(feats_remove)\n",
    "            d = {el:0 for el in col_list}\n",
    "        else:\n",
    "            keep_remove = 0\n",
    "    \n",
    "    return feats_remove"
   ]
  },
  {
   "cell_type": "code",
   "execution_count": 11,
   "metadata": {},
   "outputs": [
    {
     "name": "stdout",
     "output_type": "stream",
     "text": [
      "0.6401506528729594\n"
     ]
    }
   ],
   "source": [
    "xgb_smoted_base = XGBoost_baseline(X_train_smoted, y_train_smoted)\n",
    "basef1 = get_f1(xgb_smoted_base, X_val_smoted, y_val_smoted)\n",
    "print(basef1)"
   ]
  },
  {
   "cell_type": "code",
   "execution_count": 12,
   "metadata": {},
   "outputs": [
    {
     "ename": "IndexError",
     "evalue": "list index out of range",
     "output_type": "error",
     "traceback": [
      "\u001b[0;31m---------------------------------------------------------------------------\u001b[0m",
      "\u001b[0;31mIndexError\u001b[0m                                Traceback (most recent call last)",
      "\u001b[0;32m<ipython-input-12-881f48e8aedd>\u001b[0m in \u001b[0;36m<module>\u001b[0;34m\u001b[0m\n\u001b[0;32m----> 1\u001b[0;31m \u001b[0mfeats_remove\u001b[0m \u001b[0;34m=\u001b[0m \u001b[0mremove_features\u001b[0m\u001b[0;34m(\u001b[0m\u001b[0mX_train_smoted\u001b[0m\u001b[0;34m,\u001b[0m \u001b[0my_train_smoted\u001b[0m\u001b[0;34m,\u001b[0m \u001b[0mX_val_smoted\u001b[0m\u001b[0;34m,\u001b[0m \u001b[0my_val_smoted\u001b[0m\u001b[0;34m,\u001b[0m \u001b[0mbasef1\u001b[0m\u001b[0;34m)\u001b[0m\u001b[0;34m\u001b[0m\u001b[0;34m\u001b[0m\u001b[0m\n\u001b[0m",
      "\u001b[0;32m<ipython-input-10-7f87e88d88b3>\u001b[0m in \u001b[0;36mremove_features\u001b[0;34m(X_train, y_train, X_val, y_val, basef1)\u001b[0m\n\u001b[1;32m     10\u001b[0m         \u001b[0;31m#idx = 0\u001b[0m\u001b[0;34m\u001b[0m\u001b[0;34m\u001b[0m\u001b[0;34m\u001b[0m\u001b[0m\n\u001b[1;32m     11\u001b[0m         \u001b[0;32mfor\u001b[0m \u001b[0midx\u001b[0m \u001b[0;32min\u001b[0m \u001b[0mrange\u001b[0m\u001b[0;34m(\u001b[0m\u001b[0mlen\u001b[0m\u001b[0;34m(\u001b[0m\u001b[0mcol_list\u001b[0m\u001b[0;34m)\u001b[0m\u001b[0;34m+\u001b[0m\u001b[0;36m1\u001b[0m\u001b[0;34m)\u001b[0m\u001b[0;34m:\u001b[0m\u001b[0;34m\u001b[0m\u001b[0;34m\u001b[0m\u001b[0m\n\u001b[0;32m---> 12\u001b[0;31m             \u001b[0mremoved\u001b[0m \u001b[0;34m=\u001b[0m \u001b[0mcol_list\u001b[0m\u001b[0;34m[\u001b[0m\u001b[0midx\u001b[0m\u001b[0;34m]\u001b[0m\u001b[0;34m\u001b[0m\u001b[0;34m\u001b[0m\u001b[0m\n\u001b[0m\u001b[1;32m     13\u001b[0m             \u001b[0;31m#print(removed)\u001b[0m\u001b[0;34m\u001b[0m\u001b[0;34m\u001b[0m\u001b[0;34m\u001b[0m\u001b[0m\n\u001b[1;32m     14\u001b[0m \u001b[0;34m\u001b[0m\u001b[0m\n",
      "\u001b[0;31mIndexError\u001b[0m: list index out of range"
     ]
    }
   ],
   "source": [
    "feats_remove = remove_features(X_train_smoted, y_train_smoted, X_val_smoted, y_val_smoted, basef1)"
   ]
  },
  {
   "cell_type": "code",
   "execution_count": null,
   "metadata": {},
   "outputs": [],
   "source": [
    "X_train_adasyn.drop(labels= feats_remove , axis=1, inplace=True)\n",
    "X_val_adasyn.drop(labels= feats_remove , axis=1, inplace=True)\n",
    "X_test_adasyn.drop(labels= feats_remove , axis=1, inplace=True)"
   ]
  },
  {
   "cell_type": "markdown",
   "metadata": {},
   "source": [
    "### Hyperparameter Tuning"
   ]
  },
  {
   "cell_type": "code",
   "execution_count": null,
   "metadata": {},
   "outputs": [],
   "source": [
    "#increase max_depth\n",
    "xgb2_smoted = XGBoost(X_train_smoted, y_train_smoted ,X_val_smoted, y_val_smoted, 30, 0.3, 0.8, 3, 0.8)"
   ]
  },
  {
   "cell_type": "code",
   "execution_count": null,
   "metadata": {},
   "outputs": [],
   "source": [
    "#increase max_depth more\n",
    "xgb3_smoted = XGBoost(X_train_smoted, y_train_smoted ,X_val_smoted, y_val_smoted, 100, 0.3, 0.8, 3, 0.8)"
   ]
  },
  {
   "cell_type": "code",
   "execution_count": null,
   "metadata": {},
   "outputs": [],
   "source": [
    "#decrease max depth & increase n_estimators\n",
    "xgb4_smoted = XGBoost(X_train_smoted, y_train_smoted ,X_val_smoted, y_val_smoted, 20, 0.3, 0.8, 3, 0.8)"
   ]
  },
  {
   "cell_type": "code",
   "execution_count": null,
   "metadata": {},
   "outputs": [],
   "source": [
    "#decrease learning rate\n",
    "xgb5_smoted = XGBoost(X_train_smoted, y_train_smoted ,X_val_smoted, y_val_smoted, 20, 0.05, 0.8, 3, 0.8)"
   ]
  },
  {
   "cell_type": "code",
   "execution_count": null,
   "metadata": {},
   "outputs": [],
   "source": [
    "#decrease subsample\n",
    "xgb6_smoted = XGBoost(X_train_smoted, y_train_smoted ,X_val_smoted, y_val_smoted, 20, 0.05, 0.7, 3, 0.8)"
   ]
  },
  {
   "cell_type": "markdown",
   "metadata": {},
   "source": [
    "### Final Model"
   ]
  },
  {
   "cell_type": "markdown",
   "metadata": {},
   "source": [
    "Choose xgb_adasyn with an f1 score of: 0.85"
   ]
  },
  {
   "cell_type": "code",
   "execution_count": null,
   "metadata": {},
   "outputs": [],
   "source": [
    "probs = xgb5_smoted.predict(X_test_smoted)\n",
    "conf = confusion_matrix(y_test_smoted, probs)\n",
    "plt.figure(figsize=(6,6))\n",
    "conf1 = sns.heatmap(conf, cmap=plt.cm.get_cmap('Blues'), annot=True, square=True, fmt='d',\n",
    "               xticklabels=['Windows', 'MacOS', 'Linux'],\n",
    "               yticklabels=['Windows', 'MacOS', 'Linux'])\n",
    "\n",
    "plt.xlabel('Predicted')\n",
    "plt.ylabel('Actual')\n",
    "plt.title('Confusion matrix')\n",
    "conf1.figure.savefig('../Graphs/confmatrix.png')"
   ]
  },
  {
   "cell_type": "code",
   "execution_count": null,
   "metadata": {},
   "outputs": [],
   "source": [
    "probs = xgb5_smoted.predict(X_test)\n",
    "conf = confusion_matrix(y_test, probs)\n",
    "plt.figure(figsize=(6,6))\n",
    "conf2 = sns.heatmap(conf, cmap=plt.cm.get_cmap('Blues'), annot=True, square=True, fmt='d',\n",
    "               xticklabels=['Linux', 'MacOS', 'Windows'],\n",
    "               yticklabels=['Linux', 'MacOS', 'Windows'])\n",
    "\n",
    "plt.xlabel('Predicted')\n",
    "plt.ylabel('Actual')\n",
    "plt.title('Confusion matrix')\n",
    "conf2.figure.savefig('../Graphs/confmatrix2.png')"
   ]
  },
  {
   "cell_type": "code",
   "execution_count": null,
   "metadata": {},
   "outputs": [],
   "source": [
    "print(f1_score( y_test_smoted, probs, average='macro'))\n",
    "print(precision_score( y_test_smoted, probs, average='macro'))\n",
    "print(recall_score( y_test_smoted, probs, average='macro'))"
   ]
  },
  {
   "cell_type": "markdown",
   "metadata": {},
   "source": [
    "Pickle final model"
   ]
  },
  {
   "cell_type": "code",
   "execution_count": null,
   "metadata": {},
   "outputs": [],
   "source": [
    "# with open(\"../Models/xgb_balanced.pkl\", \"wb\") as f:\n",
    "#     pkl.dump(xgb5_smoted, f)"
   ]
  },
  {
   "cell_type": "code",
   "execution_count": null,
   "metadata": {},
   "outputs": [],
   "source": [
    "X_train_adasyn.columns"
   ]
  },
  {
   "cell_type": "code",
   "execution_count": null,
   "metadata": {},
   "outputs": [],
   "source": []
  }
 ],
 "metadata": {
  "kernelspec": {
   "display_name": "Python 3",
   "language": "python",
   "name": "python3"
  },
  "language_info": {
   "codemirror_mode": {
    "name": "ipython",
    "version": 3
   },
   "file_extension": ".py",
   "mimetype": "text/x-python",
   "name": "python",
   "nbconvert_exporter": "python",
   "pygments_lexer": "ipython3",
   "version": "3.8.5"
  }
 },
 "nbformat": 4,
 "nbformat_minor": 4
}
